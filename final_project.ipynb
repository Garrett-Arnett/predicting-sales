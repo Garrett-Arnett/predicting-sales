{
 "cells": [
  {
   "cell_type": "markdown",
   "id": "69d79738-ded5-4a59-af58-94be5373e848",
   "metadata": {},
   "source": [
    "# First Attempt at Time Series"
   ]
  },
  {
   "cell_type": "markdown",
   "id": "8329bdac-57f9-45a6-85e7-ac0ccca9bfd4",
   "metadata": {},
   "source": [
    "* Garrett Arnett"
   ]
  },
  {
   "cell_type": "markdown",
   "id": "219a2ccd-5768-43bf-89fa-3006f518d650",
   "metadata": {},
   "source": [
    "## Our Goal\n",
    "* Create a time series model which will predict revenue on a sales database\n"
   ]
  },
  {
   "cell_type": "markdown",
   "id": "336fdb1f-f198-4bc8-b85a-d34eadfe3227",
   "metadata": {},
   "source": [
    "Our Plan\n",
    "\n",
    "Plan: Questions and Hypotheses\n",
    "\n",
    "Acquire: Obtain dataset\n",
    "\n",
    "Prepare: Kept outliers, missingness was a non-issue, as there were ZERO entries containing NULL values for \n",
    "predictors. Split into ML subsets (Train/Validate/Test).\n",
    "\n",
    "Explore: Find coorelations.\n",
    "\n",
    "Model: Modeled dataset via moving averages, previous years."
   ]
  },
  {
   "cell_type": "markdown",
   "id": "520a617f-f894-438d-8fd0-57c642046d9c",
   "metadata": {},
   "source": [
    "## Imports\n"
   ]
  },
  {
   "cell_type": "code",
   "execution_count": 1,
   "id": "224171ff-c71b-4857-b03c-807a4ed7df1e",
   "metadata": {},
   "outputs": [
    {
     "data": {
      "text/html": [
       "<svg  width=\"550\" height=\"55\"><rect x=\"0\" y=\"0\" width=\"55\" height=\"55\" style=\"fill:#1f77b4;stroke-width:2;stroke:rgb(255,255,255)\"/><rect x=\"55\" y=\"0\" width=\"55\" height=\"55\" style=\"fill:#ff7f0e;stroke-width:2;stroke:rgb(255,255,255)\"/><rect x=\"110\" y=\"0\" width=\"55\" height=\"55\" style=\"fill:#2ca02c;stroke-width:2;stroke:rgb(255,255,255)\"/><rect x=\"165\" y=\"0\" width=\"55\" height=\"55\" style=\"fill:#d62728;stroke-width:2;stroke:rgb(255,255,255)\"/><rect x=\"220\" y=\"0\" width=\"55\" height=\"55\" style=\"fill:#9467bd;stroke-width:2;stroke:rgb(255,255,255)\"/><rect x=\"275\" y=\"0\" width=\"55\" height=\"55\" style=\"fill:#8c564b;stroke-width:2;stroke:rgb(255,255,255)\"/><rect x=\"330\" y=\"0\" width=\"55\" height=\"55\" style=\"fill:#e377c2;stroke-width:2;stroke:rgb(255,255,255)\"/><rect x=\"385\" y=\"0\" width=\"55\" height=\"55\" style=\"fill:#7f7f7f;stroke-width:2;stroke:rgb(255,255,255)\"/><rect x=\"440\" y=\"0\" width=\"55\" height=\"55\" style=\"fill:#bcbd22;stroke-width:2;stroke:rgb(255,255,255)\"/><rect x=\"495\" y=\"0\" width=\"55\" height=\"55\" style=\"fill:#17becf;stroke-width:2;stroke:rgb(255,255,255)\"/></svg>"
      ],
      "text/plain": [
       "[(0.12156862745098039, 0.4666666666666667, 0.7058823529411765),\n",
       " (1.0, 0.4980392156862745, 0.054901960784313725),\n",
       " (0.17254901960784313, 0.6274509803921569, 0.17254901960784313),\n",
       " (0.8392156862745098, 0.15294117647058825, 0.1568627450980392),\n",
       " (0.5803921568627451, 0.403921568627451, 0.7411764705882353),\n",
       " (0.5490196078431373, 0.33725490196078434, 0.29411764705882354),\n",
       " (0.8901960784313725, 0.4666666666666667, 0.7607843137254902),\n",
       " (0.4980392156862745, 0.4980392156862745, 0.4980392156862745),\n",
       " (0.7372549019607844, 0.7411764705882353, 0.13333333333333333),\n",
       " (0.09019607843137255, 0.7450980392156863, 0.8117647058823529)]"
      ]
     },
     "execution_count": 1,
     "metadata": {},
     "output_type": "execute_result"
    }
   ],
   "source": [
    "# for presentation purposes\n",
    "import warnings\n",
    "warnings.filterwarnings(\"ignore\")\n",
    "\n",
    "import numpy as np\n",
    "import pandas as pd\n",
    "\n",
    "# visualize \n",
    "import matplotlib.pyplot as plt\n",
    "\n",
    "import seaborn as sns\n",
    "\n",
    "import wrangle as wr\n",
    "import modeling as mo\n",
    "\n",
    "# working with dates\n",
    "from datetime import datetime\n",
    "\n",
    "# to evaluated performance using rmse\n",
    "from sklearn.metrics import mean_squared_error\n",
    "from math import sqrt \n",
    "\n",
    "# for tsa \n",
    "import statsmodels.api as sm\n",
    "\n",
    "# holt's linear trend model. \n",
    "from statsmodels.tsa.api import Holt, ExponentialSmoothing\n",
    "\n",
    "from datetime import timedelta, datetime\n",
    "from statsmodels.tsa.arima.model import ARIMA\n",
    "\n",
    "# Plt defaults\n",
    "# plt.style.use('seaborn-whitegrid')\n",
    "plt.rc('figure', figsize=(14, 8))\n",
    "plt.rc('font', size=16)\n",
    "import seaborn as sns; sns.color_palette(\"tab10\")"
   ]
  },
  {
   "cell_type": "markdown",
   "id": "c6f4f837-0277-4aea-950d-76f91c921e45",
   "metadata": {},
   "source": [
    "## Acquire and Data Preperation"
   ]
  },
  {
   "cell_type": "markdown",
   "id": "6ed208c8-d1bf-466d-a755-c3cc2bb26b24",
   "metadata": {},
   "source": [
    "Dataset from: https://www.kaggle.com/datasets/thedevastator/analyzing-customer-spending-habits-to-improve-sa?resource=download"
   ]
  },
  {
   "cell_type": "code",
   "execution_count": 2,
   "id": "67fb66ce-f984-4683-89bb-dea06a9af7d4",
   "metadata": {},
   "outputs": [],
   "source": [
    "df = wr.wrangle()"
   ]
  },
  {
   "cell_type": "code",
   "execution_count": 3,
   "id": "8eb793cf-30a9-48e3-a040-4f3fba763f66",
   "metadata": {},
   "outputs": [
    {
     "data": {
      "text/html": [
       "<div>\n",
       "<style scoped>\n",
       "    .dataframe tbody tr th:only-of-type {\n",
       "        vertical-align: middle;\n",
       "    }\n",
       "\n",
       "    .dataframe tbody tr th {\n",
       "        vertical-align: top;\n",
       "    }\n",
       "\n",
       "    .dataframe thead th {\n",
       "        text-align: right;\n",
       "    }\n",
       "</style>\n",
       "<table border=\"1\" class=\"dataframe\">\n",
       "  <thead>\n",
       "    <tr style=\"text-align: right;\">\n",
       "      <th></th>\n",
       "      <th>Date</th>\n",
       "      <th>Year</th>\n",
       "      <th>Month</th>\n",
       "      <th>Day</th>\n",
       "      <th>Customer Age</th>\n",
       "      <th>Customer Gender</th>\n",
       "      <th>Country</th>\n",
       "      <th>State</th>\n",
       "      <th>Product Category</th>\n",
       "      <th>Sub Category</th>\n",
       "      <th>Quantity</th>\n",
       "      <th>Unit Cost</th>\n",
       "      <th>Unit Price</th>\n",
       "      <th>Cost</th>\n",
       "      <th>Revenue</th>\n",
       "      <th>Year_Month</th>\n",
       "      <th>Margin</th>\n",
       "      <th>Unit_Margin</th>\n",
       "    </tr>\n",
       "  </thead>\n",
       "  <tbody>\n",
       "    <tr>\n",
       "      <th>0</th>\n",
       "      <td>2015-01-01</td>\n",
       "      <td>2015.0</td>\n",
       "      <td>1</td>\n",
       "      <td>1</td>\n",
       "      <td>37.0</td>\n",
       "      <td>0</td>\n",
       "      <td>4</td>\n",
       "      <td>1</td>\n",
       "      <td>1</td>\n",
       "      <td>0</td>\n",
       "      <td>2.0</td>\n",
       "      <td>1091.0</td>\n",
       "      <td>1272.500000</td>\n",
       "      <td>2182.0</td>\n",
       "      <td>2545.0</td>\n",
       "      <td>2015-01</td>\n",
       "      <td>363.0</td>\n",
       "      <td>181.500000</td>\n",
       "    </tr>\n",
       "    <tr>\n",
       "      <th>1</th>\n",
       "      <td>2015-01-01</td>\n",
       "      <td>2015.0</td>\n",
       "      <td>1</td>\n",
       "      <td>1</td>\n",
       "      <td>19.0</td>\n",
       "      <td>0</td>\n",
       "      <td>1</td>\n",
       "      <td>2</td>\n",
       "      <td>1</td>\n",
       "      <td>0</td>\n",
       "      <td>1.0</td>\n",
       "      <td>1000.0</td>\n",
       "      <td>938.000000</td>\n",
       "      <td>1000.0</td>\n",
       "      <td>938.0</td>\n",
       "      <td>2015-01</td>\n",
       "      <td>-62.0</td>\n",
       "      <td>-62.000000</td>\n",
       "    </tr>\n",
       "    <tr>\n",
       "      <th>2</th>\n",
       "      <td>2015-01-01</td>\n",
       "      <td>2015.0</td>\n",
       "      <td>1</td>\n",
       "      <td>1</td>\n",
       "      <td>29.0</td>\n",
       "      <td>0</td>\n",
       "      <td>1</td>\n",
       "      <td>3</td>\n",
       "      <td>1</td>\n",
       "      <td>0</td>\n",
       "      <td>3.0</td>\n",
       "      <td>261.0</td>\n",
       "      <td>230.666667</td>\n",
       "      <td>783.0</td>\n",
       "      <td>692.0</td>\n",
       "      <td>2015-01</td>\n",
       "      <td>-91.0</td>\n",
       "      <td>-30.333333</td>\n",
       "    </tr>\n",
       "    <tr>\n",
       "      <th>3</th>\n",
       "      <td>2015-01-01</td>\n",
       "      <td>2015.0</td>\n",
       "      <td>1</td>\n",
       "      <td>1</td>\n",
       "      <td>29.0</td>\n",
       "      <td>1</td>\n",
       "      <td>1</td>\n",
       "      <td>4</td>\n",
       "      <td>1</td>\n",
       "      <td>0</td>\n",
       "      <td>3.0</td>\n",
       "      <td>261.0</td>\n",
       "      <td>233.000000</td>\n",
       "      <td>783.0</td>\n",
       "      <td>699.0</td>\n",
       "      <td>2015-01</td>\n",
       "      <td>-84.0</td>\n",
       "      <td>-28.000000</td>\n",
       "    </tr>\n",
       "    <tr>\n",
       "      <th>4</th>\n",
       "      <td>2015-01-01</td>\n",
       "      <td>2015.0</td>\n",
       "      <td>1</td>\n",
       "      <td>1</td>\n",
       "      <td>36.0</td>\n",
       "      <td>0</td>\n",
       "      <td>1</td>\n",
       "      <td>5</td>\n",
       "      <td>1</td>\n",
       "      <td>1</td>\n",
       "      <td>2.0</td>\n",
       "      <td>1035.5</td>\n",
       "      <td>896.000000</td>\n",
       "      <td>2071.0</td>\n",
       "      <td>1792.0</td>\n",
       "      <td>2015-01</td>\n",
       "      <td>-279.0</td>\n",
       "      <td>-139.500000</td>\n",
       "    </tr>\n",
       "  </tbody>\n",
       "</table>\n",
       "</div>"
      ],
      "text/plain": [
       "        Date    Year  Month  Day  Customer Age  Customer Gender  Country  \\\n",
       "0 2015-01-01  2015.0      1    1          37.0                0        4   \n",
       "1 2015-01-01  2015.0      1    1          19.0                0        1   \n",
       "2 2015-01-01  2015.0      1    1          29.0                0        1   \n",
       "3 2015-01-01  2015.0      1    1          29.0                1        1   \n",
       "4 2015-01-01  2015.0      1    1          36.0                0        1   \n",
       "\n",
       "   State  Product Category  Sub Category  Quantity  Unit Cost   Unit Price  \\\n",
       "0      1                 1             0       2.0     1091.0  1272.500000   \n",
       "1      2                 1             0       1.0     1000.0   938.000000   \n",
       "2      3                 1             0       3.0      261.0   230.666667   \n",
       "3      4                 1             0       3.0      261.0   233.000000   \n",
       "4      5                 1             1       2.0     1035.5   896.000000   \n",
       "\n",
       "     Cost  Revenue Year_Month  Margin  Unit_Margin  \n",
       "0  2182.0   2545.0    2015-01   363.0   181.500000  \n",
       "1  1000.0    938.0    2015-01   -62.0   -62.000000  \n",
       "2   783.0    692.0    2015-01   -91.0   -30.333333  \n",
       "3   783.0    699.0    2015-01   -84.0   -28.000000  \n",
       "4  2071.0   1792.0    2015-01  -279.0  -139.500000  "
      ]
     },
     "execution_count": 3,
     "metadata": {},
     "output_type": "execute_result"
    }
   ],
   "source": [
    "df.head()"
   ]
  },
  {
   "cell_type": "code",
   "execution_count": 4,
   "id": "8db8beac-f2a8-4adf-8fe3-212af89c7d0f",
   "metadata": {},
   "outputs": [],
   "source": [
    "train, validate, test = mo.model()"
   ]
  },
  {
   "cell_type": "code",
   "execution_count": null,
   "id": "73a053c3-0864-4eae-b06e-5a6ffac9f11b",
   "metadata": {},
   "outputs": [],
   "source": []
  },
  {
   "cell_type": "code",
   "execution_count": 9,
   "id": "82c62528-0946-4787-ae1e-5a5969f10c87",
   "metadata": {},
   "outputs": [],
   "source": [
    "yhat_df = mo.yhat()"
   ]
  },
  {
   "cell_type": "code",
   "execution_count": null,
   "id": "80f05906-007c-4f6b-939f-1691cfa97672",
   "metadata": {},
   "outputs": [],
   "source": []
  },
  {
   "cell_type": "code",
   "execution_count": null,
   "id": "889c2c37-b905-427a-a942-b3fdb514b389",
   "metadata": {},
   "outputs": [],
   "source": []
  },
  {
   "cell_type": "code",
   "execution_count": null,
   "id": "468f82d8-5177-447f-9ab6-ed585dd8301b",
   "metadata": {},
   "outputs": [],
   "source": []
  },
  {
   "cell_type": "code",
   "execution_count": null,
   "id": "c7840e9d-466e-457c-8afe-2bc3b69ca9a8",
   "metadata": {},
   "outputs": [],
   "source": []
  },
  {
   "cell_type": "code",
   "execution_count": null,
   "id": "a8471e3d-907c-4cc8-8606-5b5306904607",
   "metadata": {},
   "outputs": [],
   "source": []
  },
  {
   "cell_type": "code",
   "execution_count": 11,
   "id": "b887d1ee-191f-43b3-96ad-8f55829b227c",
   "metadata": {},
   "outputs": [
    {
     "name": "stderr",
     "output_type": "stream",
     "text": [
      "/opt/anaconda3/lib/python3.9/site-packages/statsmodels/tsa/holtwinters/model.py:915: ConvergenceWarning: Optimization failed to converge. Check mle_retvals.\n",
      "  warnings.warn(\n"
     ]
    },
    {
     "ename": "UnboundLocalError",
     "evalue": "local variable 'yhat_df' referenced before assignment",
     "output_type": "error",
     "traceback": [
      "\u001b[0;31m---------------------------------------------------------------------------\u001b[0m",
      "\u001b[0;31mUnboundLocalError\u001b[0m                         Traceback (most recent call last)",
      "\u001b[0;32m/var/folders/f5/r0cvcy8d6bl6nqmwjp01nhjh0000gn/T/ipykernel_4421/3840632852.py\u001b[0m in \u001b[0;36m<module>\u001b[0;34m\u001b[0m\n\u001b[0;32m----> 1\u001b[0;31m \u001b[0mmo\u001b[0m\u001b[0;34m.\u001b[0m\u001b[0mfinal_model\u001b[0m\u001b[0;34m(\u001b[0m\u001b[0;34m)\u001b[0m\u001b[0;34m\u001b[0m\u001b[0;34m\u001b[0m\u001b[0m\n\u001b[0m",
      "\u001b[0;32m~/codeup-data-science/predicting-sales/modeling.py\u001b[0m in \u001b[0;36mfinal_model\u001b[0;34m()\u001b[0m\n\u001b[1;32m    137\u001b[0m                            end = validate.index[-1])\n\u001b[1;32m    138\u001b[0m     \u001b[0;31m# add predictions to yhat_df\u001b[0m\u001b[0;34m\u001b[0m\u001b[0;34m\u001b[0m\u001b[0m\n\u001b[0;32m--> 139\u001b[0;31m     \u001b[0myhat_df\u001b[0m\u001b[0;34m[\u001b[0m\u001b[0mcol\u001b[0m\u001b[0;34m]\u001b[0m \u001b[0;34m=\u001b[0m \u001b[0mround\u001b[0m\u001b[0;34m(\u001b[0m\u001b[0myhat_items\u001b[0m\u001b[0;34m,\u001b[0m \u001b[0;36m2\u001b[0m\u001b[0;34m)\u001b[0m\u001b[0;34m\u001b[0m\u001b[0;34m\u001b[0m\u001b[0m\n\u001b[0m\u001b[1;32m    140\u001b[0m     \u001b[0myhat_df\u001b[0m \u001b[0;34m=\u001b[0m \u001b[0mtest\u001b[0m \u001b[0;34m+\u001b[0m \u001b[0mtrain\u001b[0m\u001b[0;34m.\u001b[0m\u001b[0mdiff\u001b[0m\u001b[0;34m(\u001b[0m\u001b[0;34m)\u001b[0m\u001b[0;34m.\u001b[0m\u001b[0mmean\u001b[0m\u001b[0;34m(\u001b[0m\u001b[0;34m)\u001b[0m\u001b[0;34m\u001b[0m\u001b[0;34m\u001b[0m\u001b[0m\n\u001b[1;32m    141\u001b[0m \u001b[0;34m\u001b[0m\u001b[0m\n",
      "\u001b[0;31mUnboundLocalError\u001b[0m: local variable 'yhat_df' referenced before assignment"
     ]
    }
   ],
   "source": [
    "mo.final_model()"
   ]
  },
  {
   "cell_type": "code",
   "execution_count": null,
   "id": "d92ae127-27f6-4e9b-a97d-a855871ed4bd",
   "metadata": {},
   "outputs": [],
   "source": []
  },
  {
   "cell_type": "code",
   "execution_count": null,
   "id": "7d8b67a2-9ed5-4cd4-a24d-77e06bf91173",
   "metadata": {},
   "outputs": [],
   "source": []
  },
  {
   "cell_type": "code",
   "execution_count": null,
   "id": "8f9759b5-a73a-42f8-9c3e-31e26d0079c5",
   "metadata": {},
   "outputs": [],
   "source": []
  },
  {
   "cell_type": "code",
   "execution_count": null,
   "id": "1174c70b-5239-4bc1-9013-4cbebf2ac133",
   "metadata": {},
   "outputs": [],
   "source": []
  },
  {
   "cell_type": "code",
   "execution_count": null,
   "id": "ddb2aa41-3255-4e1d-99b0-ac9089c1f6a5",
   "metadata": {},
   "outputs": [],
   "source": []
  },
  {
   "cell_type": "code",
   "execution_count": null,
   "id": "2fec8cf6-7e91-4d4c-a200-654e9b0200ba",
   "metadata": {},
   "outputs": [],
   "source": []
  },
  {
   "cell_type": "code",
   "execution_count": null,
   "id": "6f7016a0-cf0a-4119-8281-3e144dd6541c",
   "metadata": {},
   "outputs": [],
   "source": []
  },
  {
   "cell_type": "code",
   "execution_count": null,
   "id": "0f4fd103-f112-4a07-8bf7-944a09d20a8f",
   "metadata": {},
   "outputs": [],
   "source": []
  },
  {
   "cell_type": "code",
   "execution_count": null,
   "id": "76f5d333-f585-4cd9-af57-036942ac4907",
   "metadata": {},
   "outputs": [],
   "source": []
  }
 ],
 "metadata": {
  "kernelspec": {
   "display_name": "Python 3 (ipykernel)",
   "language": "python",
   "name": "python3"
  },
  "language_info": {
   "codemirror_mode": {
    "name": "ipython",
    "version": 3
   },
   "file_extension": ".py",
   "mimetype": "text/x-python",
   "name": "python",
   "nbconvert_exporter": "python",
   "pygments_lexer": "ipython3",
   "version": "3.9.13"
  }
 },
 "nbformat": 4,
 "nbformat_minor": 5
}
