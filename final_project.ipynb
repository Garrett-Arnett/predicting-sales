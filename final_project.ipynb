{
 "cells": [
  {
   "cell_type": "markdown",
   "id": "69d79738-ded5-4a59-af58-94be5373e848",
   "metadata": {},
   "source": [
    "# First Attempt at Time Series"
   ]
  },
  {
   "cell_type": "markdown",
   "id": "8329bdac-57f9-45a6-85e7-ac0ccca9bfd4",
   "metadata": {},
   "source": [
    "* Garrett Arnett"
   ]
  },
  {
   "cell_type": "markdown",
   "id": "219a2ccd-5768-43bf-89fa-3006f518d650",
   "metadata": {},
   "source": [
    "## Our Goal\n",
    "* Create a time series model which will predict revenue on a sales database\n"
   ]
  },
  {
   "cell_type": "markdown",
   "id": "336fdb1f-f198-4bc8-b85a-d34eadfe3227",
   "metadata": {},
   "source": [
    "Our Plan\n",
    "\n",
    "Plan: Questions and Hypotheses\n",
    "\n",
    "Acquire: Obtain dataset\n",
    "\n",
    "Prepare: Kept outliers, missingness was a non-issue, as there were ZERO entries containing NULL values for \n",
    "predictors. Split into ML subsets (Train/Validate/Test).\n",
    "\n",
    "Explore: Find coorelations.\n",
    "\n",
    "Model: Modeled dataset via moving averages, previous years."
   ]
  },
  {
   "cell_type": "markdown",
   "id": "520a617f-f894-438d-8fd0-57c642046d9c",
   "metadata": {},
   "source": [
    "## Imports\n"
   ]
  },
  {
   "cell_type": "code",
   "execution_count": null,
   "id": "224171ff-c71b-4857-b03c-807a4ed7df1e",
   "metadata": {},
   "outputs": [],
   "source": [
    "# for presentation purposes\n",
    "import warnings\n",
    "warnings.filterwarnings(\"ignore\")\n",
    "\n",
    "import numpy as np\n",
    "import pandas as pd\n",
    "\n",
    "# visualize \n",
    "import matplotlib.pyplot as plt\n",
    "%matplotlib inline\n",
    "import seaborn as sns\n",
    "\n",
    "import wrangle as wr\n",
    "\n",
    "# working with dates\n",
    "from datetime import datetime\n",
    "\n",
    "# to evaluated performance using rmse\n",
    "from sklearn.metrics import mean_squared_error\n",
    "from math import sqrt \n",
    "\n",
    "# for tsa \n",
    "import statsmodels.api as sm\n",
    "\n",
    "# holt's linear trend model. \n",
    "from statsmodels.tsa.api import Holt, ExponentialSmoothing\n",
    "\n",
    "from datetime import timedelta, datetime\n",
    "from statsmodels.tsa.arima.model import ARIMA\n",
    "\n",
    "# Plt defaults\n",
    "# plt.style.use('seaborn-whitegrid')\n",
    "plt.rc('figure', figsize=(14, 8))\n",
    "plt.rc('font', size=16)\n",
    "import seaborn as sns; sns.color_palette(\"tab10\")"
   ]
  },
  {
   "cell_type": "code",
   "execution_count": null,
   "id": "cdf247a3-c9f1-4749-a50b-eba7e3640060",
   "metadata": {},
   "outputs": [],
   "source": []
  },
  {
   "cell_type": "code",
   "execution_count": null,
   "id": "371d619c-25db-4615-aea1-effd4c7367b7",
   "metadata": {},
   "outputs": [],
   "source": []
  },
  {
   "cell_type": "code",
   "execution_count": null,
   "id": "67fb66ce-f984-4683-89bb-dea06a9af7d4",
   "metadata": {},
   "outputs": [],
   "source": []
  },
  {
   "cell_type": "code",
   "execution_count": null,
   "id": "8eb793cf-30a9-48e3-a040-4f3fba763f66",
   "metadata": {},
   "outputs": [],
   "source": []
  },
  {
   "cell_type": "code",
   "execution_count": null,
   "id": "8db8beac-f2a8-4adf-8fe3-212af89c7d0f",
   "metadata": {},
   "outputs": [],
   "source": []
  },
  {
   "cell_type": "code",
   "execution_count": null,
   "id": "ddaf2731-fb5f-4ebb-886c-c994cf6953ac",
   "metadata": {},
   "outputs": [],
   "source": []
  },
  {
   "cell_type": "code",
   "execution_count": null,
   "id": "b7e726f8-4f1d-49ac-94e7-f77278c4e58c",
   "metadata": {},
   "outputs": [],
   "source": []
  },
  {
   "cell_type": "code",
   "execution_count": null,
   "id": "80f05906-007c-4f6b-939f-1691cfa97672",
   "metadata": {},
   "outputs": [],
   "source": []
  },
  {
   "cell_type": "code",
   "execution_count": null,
   "id": "889c2c37-b905-427a-a942-b3fdb514b389",
   "metadata": {},
   "outputs": [],
   "source": []
  },
  {
   "cell_type": "code",
   "execution_count": null,
   "id": "468f82d8-5177-447f-9ab6-ed585dd8301b",
   "metadata": {},
   "outputs": [],
   "source": []
  },
  {
   "cell_type": "code",
   "execution_count": null,
   "id": "c7840e9d-466e-457c-8afe-2bc3b69ca9a8",
   "metadata": {},
   "outputs": [],
   "source": []
  },
  {
   "cell_type": "code",
   "execution_count": null,
   "id": "a8471e3d-907c-4cc8-8606-5b5306904607",
   "metadata": {},
   "outputs": [],
   "source": []
  },
  {
   "cell_type": "code",
   "execution_count": null,
   "id": "0e07910a-63f2-447c-884d-4dcd768a9db0",
   "metadata": {},
   "outputs": [],
   "source": []
  },
  {
   "cell_type": "code",
   "execution_count": null,
   "id": "b887d1ee-191f-43b3-96ad-8f55829b227c",
   "metadata": {},
   "outputs": [],
   "source": []
  },
  {
   "cell_type": "code",
   "execution_count": null,
   "id": "d92ae127-27f6-4e9b-a97d-a855871ed4bd",
   "metadata": {},
   "outputs": [],
   "source": []
  },
  {
   "cell_type": "code",
   "execution_count": null,
   "id": "7d8b67a2-9ed5-4cd4-a24d-77e06bf91173",
   "metadata": {},
   "outputs": [],
   "source": []
  },
  {
   "cell_type": "code",
   "execution_count": null,
   "id": "8f9759b5-a73a-42f8-9c3e-31e26d0079c5",
   "metadata": {},
   "outputs": [],
   "source": []
  },
  {
   "cell_type": "code",
   "execution_count": null,
   "id": "1174c70b-5239-4bc1-9013-4cbebf2ac133",
   "metadata": {},
   "outputs": [],
   "source": []
  },
  {
   "cell_type": "code",
   "execution_count": null,
   "id": "ddb2aa41-3255-4e1d-99b0-ac9089c1f6a5",
   "metadata": {},
   "outputs": [],
   "source": []
  },
  {
   "cell_type": "code",
   "execution_count": null,
   "id": "2fec8cf6-7e91-4d4c-a200-654e9b0200ba",
   "metadata": {},
   "outputs": [],
   "source": []
  },
  {
   "cell_type": "code",
   "execution_count": null,
   "id": "6f7016a0-cf0a-4119-8281-3e144dd6541c",
   "metadata": {},
   "outputs": [],
   "source": []
  },
  {
   "cell_type": "code",
   "execution_count": null,
   "id": "0f4fd103-f112-4a07-8bf7-944a09d20a8f",
   "metadata": {},
   "outputs": [],
   "source": []
  },
  {
   "cell_type": "code",
   "execution_count": null,
   "id": "76f5d333-f585-4cd9-af57-036942ac4907",
   "metadata": {},
   "outputs": [],
   "source": []
  }
 ],
 "metadata": {
  "kernelspec": {
   "display_name": "Python 3 (ipykernel)",
   "language": "python",
   "name": "python3"
  },
  "language_info": {
   "codemirror_mode": {
    "name": "ipython",
    "version": 3
   },
   "file_extension": ".py",
   "mimetype": "text/x-python",
   "name": "python",
   "nbconvert_exporter": "python",
   "pygments_lexer": "ipython3",
   "version": "3.9.13"
  }
 },
 "nbformat": 4,
 "nbformat_minor": 5
}
